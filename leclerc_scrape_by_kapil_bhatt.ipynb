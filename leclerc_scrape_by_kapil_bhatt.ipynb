{
 "cells": [
  {
   "cell_type": "code",
   "execution_count": 8,
   "id": "9ed94aeb",
   "metadata": {},
   "outputs": [],
   "source": [
    "import requests\n",
    "from bs4 import BeautifulSoup"
   ]
  },
  {
   "cell_type": "code",
   "execution_count": 9,
   "id": "c9e2ed6c",
   "metadata": {},
   "outputs": [],
   "source": [
    "product_name = []\n",
    "brand =[]\n",
    "price = {\"sp\":[],\"cp\":[]}"
   ]
  },
  {
   "cell_type": "code",
   "execution_count": 10,
   "id": "c00bc84e",
   "metadata": {},
   "outputs": [],
   "source": [
    "url = \"https://www.e.leclerc/cat/bon-plan-sport-et-loisir\"\n",
    "    \n",
    "r = requests.get(url)\n",
    "soup = BeautifulSoup(r.content,\"html.parser\")\n",
    "\n",
    "name = soup.findAll(\"div\",{\"class\":\"product-label-brand\"})\n",
    "for i in name:\n",
    "    try:\n",
    "        product_name.append(i.text)\n",
    "    except:\n",
    "        product_name.append(\"NA\")\n",
    "        \n",
    "brand1 = soup.findAll(\"p\",{\"class\":\"product-brand clamp clamp-1 ng-star-inserted\"})\n",
    "for j in brand1:\n",
    "    try:\n",
    "        brand.append(j.text)\n",
    "    except:\n",
    "        brand.append(\"NA\")\n",
    "\n",
    "mrp = soup.findAll(\"div\",{\"class\":\"product-price-wrapper\"})\n",
    "for k in mrp:\n",
    "    try:\n",
    "        price[\"sp\"].append(k.find(\"span\",{\"class\":\"price-strike strik-height-variation ng-star-inserted\"}).text)\n",
    "    except:\n",
    "        price[\"sp\"].append(\"Na\")\n",
    "    try:\n",
    "        price[\"cp\"].append(k.find(\"div\",{\"class\":\"price-unit d-inline-block\"}).text)\n",
    "    except:\n",
    "        price[\"cp\"].append(k.find(\"span\",{\"price-strike strik-height-variation ng-star-inserted\"}).text)"
   ]
  },
  {
   "cell_type": "code",
   "execution_count": null,
   "id": "9f969532",
   "metadata": {},
   "outputs": [],
   "source": [
    "data = {\"Product_name\":product_name,\"Sell_price\":price[\"sp\"],\"Offer_price\":price[\"cp\"],\"Brand\":brand}"
   ]
  },
  {
   "cell_type": "code",
   "execution_count": null,
   "id": "688ce1c4",
   "metadata": {},
   "outputs": [],
   "source": [
    "import pandas as pd\n",
    "file = pd.DataFrame(data)\n",
    "file.to_csv(\"leclerc.csv\")\n",
    "file.tail() #just chcking last 5 element"
   ]
  }
 ],
 "metadata": {
  "kernelspec": {
   "display_name": "Python 3 (ipykernel)",
   "language": "python",
   "name": "python3"
  },
  "language_info": {
   "codemirror_mode": {
    "name": "ipython",
    "version": 3
   },
   "file_extension": ".py",
   "mimetype": "text/x-python",
   "name": "python",
   "nbconvert_exporter": "python",
   "pygments_lexer": "ipython3",
   "version": "3.9.7"
  }
 },
 "nbformat": 4,
 "nbformat_minor": 5
}
